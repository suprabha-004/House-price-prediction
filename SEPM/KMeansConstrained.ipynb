{
 "cells": [
  {
   "cell_type": "code",
   "execution_count": 1,
   "id": "a077fd0f",
   "metadata": {},
   "outputs": [],
   "source": [
    "%reset -f"
   ]
  },
  {
   "cell_type": "code",
   "execution_count": 14,
   "id": "51f317ca",
   "metadata": {},
   "outputs": [
    {
     "name": "stdout",
     "output_type": "stream",
     "text": [
      "Requirement already satisfied: folium in f:\\anaconda\\lib\\site-packages (0.18.0)\n",
      "Requirement already satisfied: branca>=0.6.0 in f:\\anaconda\\lib\\site-packages (from folium) (0.8.0)\n",
      "Requirement already satisfied: jinja2>=2.9 in f:\\anaconda\\lib\\site-packages (from folium) (3.1.4)\n",
      "Requirement already satisfied: numpy in f:\\anaconda\\lib\\site-packages (from folium) (2.1.2)\n",
      "Requirement already satisfied: requests in f:\\anaconda\\lib\\site-packages (from folium) (2.32.2)\n",
      "Requirement already satisfied: xyzservices in f:\\anaconda\\lib\\site-packages (from folium) (2022.9.0)\n",
      "Requirement already satisfied: MarkupSafe>=2.0 in f:\\anaconda\\lib\\site-packages (from jinja2>=2.9->folium) (2.1.3)\n",
      "Requirement already satisfied: charset-normalizer<4,>=2 in f:\\anaconda\\lib\\site-packages (from requests->folium) (2.0.4)\n",
      "Requirement already satisfied: idna<4,>=2.5 in f:\\anaconda\\lib\\site-packages (from requests->folium) (3.7)\n",
      "Requirement already satisfied: urllib3<3,>=1.21.1 in f:\\anaconda\\lib\\site-packages (from requests->folium) (2.2.2)\n",
      "Requirement already satisfied: certifi>=2017.4.17 in f:\\anaconda\\lib\\site-packages (from requests->folium) (2024.8.30)\n",
      "Note: you may need to restart the kernel to use updated packages.\n"
     ]
    }
   ],
   "source": [
    "pip install folium"
   ]
  },
  {
   "cell_type": "code",
   "execution_count": 16,
   "id": "13d56a65",
   "metadata": {},
   "outputs": [
    {
     "name": "stdout",
     "output_type": "stream",
     "text": [
      "Requirement already satisfied: k-means-constrained in f:\\anaconda\\lib\\site-packages (0.7.5)\n",
      "Requirement already satisfied: ortools>=9.11.4210 in f:\\anaconda\\lib\\site-packages (from k-means-constrained) (9.11.4210)\n",
      "Requirement already satisfied: scipy>=1.14.1 in f:\\anaconda\\lib\\site-packages (from k-means-constrained) (1.14.1)\n",
      "Requirement already satisfied: numpy>=2.1.1 in f:\\anaconda\\lib\\site-packages (from k-means-constrained) (2.1.2)\n",
      "Requirement already satisfied: six in f:\\anaconda\\lib\\site-packages (from k-means-constrained) (1.16.0)\n",
      "Requirement already satisfied: joblib in f:\\anaconda\\lib\\site-packages (from k-means-constrained) (1.4.2)\n",
      "Requirement already satisfied: absl-py>=2.0.0 in f:\\anaconda\\lib\\site-packages (from ortools>=9.11.4210->k-means-constrained) (2.1.0)\n",
      "Requirement already satisfied: pandas>=2.0.0 in f:\\anaconda\\lib\\site-packages (from ortools>=9.11.4210->k-means-constrained) (2.2.3)\n",
      "Requirement already satisfied: protobuf<5.27,>=5.26.1 in f:\\anaconda\\lib\\site-packages (from ortools>=9.11.4210->k-means-constrained) (5.26.1)\n",
      "Requirement already satisfied: immutabledict>=3.0.0 in f:\\anaconda\\lib\\site-packages (from ortools>=9.11.4210->k-means-constrained) (4.2.0)\n",
      "Requirement already satisfied: python-dateutil>=2.8.2 in f:\\anaconda\\lib\\site-packages (from pandas>=2.0.0->ortools>=9.11.4210->k-means-constrained) (2.9.0.post0)\n",
      "Requirement already satisfied: pytz>=2020.1 in f:\\anaconda\\lib\\site-packages (from pandas>=2.0.0->ortools>=9.11.4210->k-means-constrained) (2024.1)\n",
      "Requirement already satisfied: tzdata>=2022.7 in f:\\anaconda\\lib\\site-packages (from pandas>=2.0.0->ortools>=9.11.4210->k-means-constrained) (2023.3)\n",
      "Note: you may need to restart the kernel to use updated packages.\n"
     ]
    }
   ],
   "source": [
    "pip install k-means-constrained"
   ]
  },
  {
   "cell_type": "code",
   "execution_count": 18,
   "id": "351fcf5e",
   "metadata": {},
   "outputs": [
    {
     "name": "stdout",
     "output_type": "stream",
     "text": [
      "          lat         lng\n",
      "0    3.108459  101.671521\n",
      "1    3.166217  101.642770\n",
      "2    3.058430  101.674980\n",
      "3    3.146544  101.706784\n",
      "4    3.072845  101.700153\n",
      "..        ...         ...\n",
      "448  3.110972  101.666171\n",
      "449  3.124467  101.714256\n",
      "450  3.168135  101.642516\n",
      "451  3.156022  101.708522\n",
      "452  3.121262  101.676220\n",
      "\n",
      "[453 rows x 2 columns]\n"
     ]
    }
   ],
   "source": [
    "import pandas as pd\n",
    "\n",
    "# read from local drive\n",
    "# file_url = \"dataset/geolocation.csv\"\n",
    "\n",
    "# read from GitHub\n",
    "file_url = \"https://raw.githubusercontent.com/tribasuki74/clustering01/main/dataset/geolocation.csv\"\n",
    "\n",
    "data = pd.read_csv(file_url)\n",
    "features = data[['lat', 'lng']]\n",
    "print(features)"
   ]
  },
  {
   "cell_type": "code",
   "execution_count": 20,
   "id": "3b963921",
   "metadata": {},
   "outputs": [
    {
     "name": "stdout",
     "output_type": "stream",
     "text": [
      "cluster\n",
      "0     32\n",
      "1     13\n",
      "2     12\n",
      "3     37\n",
      "4     24\n",
      "5     34\n",
      "6     22\n",
      "7     35\n",
      "8     26\n",
      "9     19\n",
      "10    29\n",
      "11    18\n",
      "12    48\n",
      "13    23\n",
      "14    56\n",
      "15    25\n",
      "Name: no, dtype: int64\n"
     ]
    }
   ],
   "source": [
    "from sklearn.cluster import KMeans\n",
    "# create kmeans model/object\n",
    "kmeans = KMeans(\n",
    "    init=\"random\",\n",
    "    n_clusters=16,\n",
    "    n_init=10,\n",
    "    max_iter=300,\n",
    "    random_state=42\n",
    ")\n",
    "\n",
    "# do clustering\n",
    "kmeans.fit(features)\n",
    "# save results\n",
    "labels = kmeans.labels_\n",
    "\n",
    "# send back into the data frame and display it\n",
    "data['cluster'] = labels\n",
    "# display the number of members in each clustering\n",
    "_clusters = data.groupby('cluster')['no'].count()\n",
    "print(_clusters)"
   ]
  },
  {
   "cell_type": "code",
   "execution_count": 22,
   "id": "ba92507d",
   "metadata": {},
   "outputs": [
    {
     "name": "stdout",
     "output_type": "stream",
     "text": [
      "[[  3.108459 101.671521]\n",
      " [  3.166217 101.64277 ]\n",
      " [  3.05843  101.67498 ]\n",
      " [  3.146544 101.706784]\n",
      " [  3.072845 101.700153]\n",
      " [  3.152029 101.738007]\n",
      " [  3.152173 101.712648]\n",
      " [  3.151061 101.663871]\n",
      " [  3.083242 101.67733 ]\n",
      " [  3.141341 101.663463]]\n"
     ]
    }
   ],
   "source": [
    "import pandas as pd\n",
    "import numpy as np\n",
    "file_url = \"https://raw.githubusercontent.com/tribasuki74/clustering01/main/dataset/geolocation.csv\"\n",
    "data = pd.read_csv(file_url)\n",
    "features = data[['lat', 'lng']]\n",
    "X = np.array(features)\n",
    "print(X[:10])"
   ]
  },
  {
   "cell_type": "code",
   "execution_count": 30,
   "id": "ccb17d31",
   "metadata": {},
   "outputs": [
    {
     "ename": "KeyError",
     "evalue": "'cluster'",
     "output_type": "error",
     "traceback": [
      "\u001b[1;31m---------------------------------------------------------------------------\u001b[0m",
      "\u001b[1;31mKeyError\u001b[0m                                  Traceback (most recent call last)",
      "File \u001b[1;32mF:\\Anaconda\\Lib\\site-packages\\pandas\\core\\indexes\\base.py:3805\u001b[0m, in \u001b[0;36mIndex.get_loc\u001b[1;34m(self, key)\u001b[0m\n\u001b[0;32m   3804\u001b[0m \u001b[38;5;28;01mtry\u001b[39;00m:\n\u001b[1;32m-> 3805\u001b[0m     \u001b[38;5;28;01mreturn\u001b[39;00m \u001b[38;5;28mself\u001b[39m\u001b[38;5;241m.\u001b[39m_engine\u001b[38;5;241m.\u001b[39mget_loc(casted_key)\n\u001b[0;32m   3806\u001b[0m \u001b[38;5;28;01mexcept\u001b[39;00m \u001b[38;5;167;01mKeyError\u001b[39;00m \u001b[38;5;28;01mas\u001b[39;00m err:\n",
      "File \u001b[1;32mindex.pyx:167\u001b[0m, in \u001b[0;36mpandas._libs.index.IndexEngine.get_loc\u001b[1;34m()\u001b[0m\n",
      "File \u001b[1;32mindex.pyx:196\u001b[0m, in \u001b[0;36mpandas._libs.index.IndexEngine.get_loc\u001b[1;34m()\u001b[0m\n",
      "File \u001b[1;32mpandas\\\\_libs\\\\hashtable_class_helper.pxi:7081\u001b[0m, in \u001b[0;36mpandas._libs.hashtable.PyObjectHashTable.get_item\u001b[1;34m()\u001b[0m\n",
      "File \u001b[1;32mpandas\\\\_libs\\\\hashtable_class_helper.pxi:7089\u001b[0m, in \u001b[0;36mpandas._libs.hashtable.PyObjectHashTable.get_item\u001b[1;34m()\u001b[0m\n",
      "\u001b[1;31mKeyError\u001b[0m: 'cluster'",
      "\nThe above exception was the direct cause of the following exception:\n",
      "\u001b[1;31mKeyError\u001b[0m                                  Traceback (most recent call last)",
      "Cell \u001b[1;32mIn[30], line 13\u001b[0m\n\u001b[0;32m      9\u001b[0m \u001b[38;5;28mmap\u001b[39m \u001b[38;5;241m=\u001b[39m folium\u001b[38;5;241m.\u001b[39mMap(location\u001b[38;5;241m=\u001b[39m[lat, lng], zoom_start\u001b[38;5;241m=\u001b[39m\u001b[38;5;241m12\u001b[39m)\n\u001b[0;32m     11\u001b[0m \u001b[38;5;28;01mfor\u001b[39;00m _, row \u001b[38;5;129;01min\u001b[39;00m data\u001b[38;5;241m.\u001b[39miterrows():\n\u001b[0;32m     12\u001b[0m     folium\u001b[38;5;241m.\u001b[39mCircleMarker(location\u001b[38;5;241m=\u001b[39m[row[\u001b[38;5;124m\"\u001b[39m\u001b[38;5;124mlat\u001b[39m\u001b[38;5;124m\"\u001b[39m], row[\u001b[38;5;124m\"\u001b[39m\u001b[38;5;124mlng\u001b[39m\u001b[38;5;124m\"\u001b[39m]], \n\u001b[1;32m---> 13\u001b[0m                         radius\u001b[38;5;241m=\u001b[39m\u001b[38;5;241m12\u001b[39m, weight\u001b[38;5;241m=\u001b[39m\u001b[38;5;241m3\u001b[39m, fill\u001b[38;5;241m=\u001b[39m\u001b[38;5;28;01mTrue\u001b[39;00m, fill_color\u001b[38;5;241m=\u001b[39mcolors[\u001b[38;5;28mint\u001b[39m(row[\u001b[38;5;124m\"\u001b[39m\u001b[38;5;124mcluster\u001b[39m\u001b[38;5;124m\"\u001b[39m])], \n\u001b[0;32m     14\u001b[0m                         color\u001b[38;5;241m=\u001b[39mcolors[\u001b[38;5;28mint\u001b[39m(row[\u001b[38;5;124m\"\u001b[39m\u001b[38;5;124mcluster\u001b[39m\u001b[38;5;124m\"\u001b[39m])])\u001b[38;5;241m.\u001b[39madd_to(\u001b[38;5;28mmap\u001b[39m)\n\u001b[0;32m     16\u001b[0m \u001b[38;5;28mmap\u001b[39m\n",
      "File \u001b[1;32mF:\\Anaconda\\Lib\\site-packages\\pandas\\core\\series.py:1121\u001b[0m, in \u001b[0;36mSeries.__getitem__\u001b[1;34m(self, key)\u001b[0m\n\u001b[0;32m   1118\u001b[0m     \u001b[38;5;28;01mreturn\u001b[39;00m \u001b[38;5;28mself\u001b[39m\u001b[38;5;241m.\u001b[39m_values[key]\n\u001b[0;32m   1120\u001b[0m \u001b[38;5;28;01melif\u001b[39;00m key_is_scalar:\n\u001b[1;32m-> 1121\u001b[0m     \u001b[38;5;28;01mreturn\u001b[39;00m \u001b[38;5;28mself\u001b[39m\u001b[38;5;241m.\u001b[39m_get_value(key)\n\u001b[0;32m   1123\u001b[0m \u001b[38;5;66;03m# Convert generator to list before going through hashable part\u001b[39;00m\n\u001b[0;32m   1124\u001b[0m \u001b[38;5;66;03m# (We will iterate through the generator there to check for slices)\u001b[39;00m\n\u001b[0;32m   1125\u001b[0m \u001b[38;5;28;01mif\u001b[39;00m is_iterator(key):\n",
      "File \u001b[1;32mF:\\Anaconda\\Lib\\site-packages\\pandas\\core\\series.py:1237\u001b[0m, in \u001b[0;36mSeries._get_value\u001b[1;34m(self, label, takeable)\u001b[0m\n\u001b[0;32m   1234\u001b[0m     \u001b[38;5;28;01mreturn\u001b[39;00m \u001b[38;5;28mself\u001b[39m\u001b[38;5;241m.\u001b[39m_values[label]\n\u001b[0;32m   1236\u001b[0m \u001b[38;5;66;03m# Similar to Index.get_value, but we do not fall back to positional\u001b[39;00m\n\u001b[1;32m-> 1237\u001b[0m loc \u001b[38;5;241m=\u001b[39m \u001b[38;5;28mself\u001b[39m\u001b[38;5;241m.\u001b[39mindex\u001b[38;5;241m.\u001b[39mget_loc(label)\n\u001b[0;32m   1239\u001b[0m \u001b[38;5;28;01mif\u001b[39;00m is_integer(loc):\n\u001b[0;32m   1240\u001b[0m     \u001b[38;5;28;01mreturn\u001b[39;00m \u001b[38;5;28mself\u001b[39m\u001b[38;5;241m.\u001b[39m_values[loc]\n",
      "File \u001b[1;32mF:\\Anaconda\\Lib\\site-packages\\pandas\\core\\indexes\\base.py:3812\u001b[0m, in \u001b[0;36mIndex.get_loc\u001b[1;34m(self, key)\u001b[0m\n\u001b[0;32m   3807\u001b[0m     \u001b[38;5;28;01mif\u001b[39;00m \u001b[38;5;28misinstance\u001b[39m(casted_key, \u001b[38;5;28mslice\u001b[39m) \u001b[38;5;129;01mor\u001b[39;00m (\n\u001b[0;32m   3808\u001b[0m         \u001b[38;5;28misinstance\u001b[39m(casted_key, abc\u001b[38;5;241m.\u001b[39mIterable)\n\u001b[0;32m   3809\u001b[0m         \u001b[38;5;129;01mand\u001b[39;00m \u001b[38;5;28many\u001b[39m(\u001b[38;5;28misinstance\u001b[39m(x, \u001b[38;5;28mslice\u001b[39m) \u001b[38;5;28;01mfor\u001b[39;00m x \u001b[38;5;129;01min\u001b[39;00m casted_key)\n\u001b[0;32m   3810\u001b[0m     ):\n\u001b[0;32m   3811\u001b[0m         \u001b[38;5;28;01mraise\u001b[39;00m InvalidIndexError(key)\n\u001b[1;32m-> 3812\u001b[0m     \u001b[38;5;28;01mraise\u001b[39;00m \u001b[38;5;167;01mKeyError\u001b[39;00m(key) \u001b[38;5;28;01mfrom\u001b[39;00m \u001b[38;5;21;01merr\u001b[39;00m\n\u001b[0;32m   3813\u001b[0m \u001b[38;5;28;01mexcept\u001b[39;00m \u001b[38;5;167;01mTypeError\u001b[39;00m:\n\u001b[0;32m   3814\u001b[0m     \u001b[38;5;66;03m# If we have a listlike key, _check_indexing_error will raise\u001b[39;00m\n\u001b[0;32m   3815\u001b[0m     \u001b[38;5;66;03m#  InvalidIndexError. Otherwise we fall through and re-raise\u001b[39;00m\n\u001b[0;32m   3816\u001b[0m     \u001b[38;5;66;03m#  the TypeError.\u001b[39;00m\n\u001b[0;32m   3817\u001b[0m     \u001b[38;5;28mself\u001b[39m\u001b[38;5;241m.\u001b[39m_check_indexing_error(key)\n",
      "\u001b[1;31mKeyError\u001b[0m: 'cluster'"
     ]
    }
   ],
   "source": [
    "import folium\n",
    "\n",
    "colors = ['red', 'blue', 'green', 'purple', 'orange', 'darkred', 'lightred', \\\n",
    "     'beige', 'darkblue', 'darkgreen', 'cadetblue', 'darkpurple', \\\n",
    "     'pink', 'lightblue', 'lightgreen', 'gray', 'black', 'lightgray' ]\n",
    "\n",
    "lat = data.iloc[0]['lat']\n",
    "lng = data.iloc[0]['lng']\n",
    "map = folium.Map(location=[lat, lng], zoom_start=12)\n",
    "\n",
    "for _, row in data.iterrows():\n",
    "    folium.CircleMarker(location=[row[\"lat\"], row[\"lng\"]], \n",
    "                        radius=12, weight=3, fill=True, fill_color=colors[int(row[\"cluster\"])], \n",
    "                        color=colors[int(row[\"cluster\"])]).add_to(map)\n",
    "\n",
    "map\n"
   ]
  },
  {
   "cell_type": "code",
   "execution_count": null,
   "id": "0318d663",
   "metadata": {},
   "outputs": [],
   "source": []
  }
 ],
 "metadata": {
  "kernelspec": {
   "display_name": "Python 3 (ipykernel)",
   "language": "python",
   "name": "python3"
  },
  "language_info": {
   "codemirror_mode": {
    "name": "ipython",
    "version": 3
   },
   "file_extension": ".py",
   "mimetype": "text/x-python",
   "name": "python",
   "nbconvert_exporter": "python",
   "pygments_lexer": "ipython3",
   "version": "3.12.4"
  }
 },
 "nbformat": 4,
 "nbformat_minor": 5
}
